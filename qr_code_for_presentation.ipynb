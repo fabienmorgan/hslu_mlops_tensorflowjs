{
 "cells": [
  {
   "cell_type": "markdown",
   "metadata": {},
   "source": [
    "## Attribution\n",
    "This project incorporates code from the \"QR Code Conditioned ControlNet Models for Stable Diffusion 1.5\" by Dion Timmer, available on Hugging Face. The original code can be accessed at this [link](https://huggingface.co/DionTimmer/controlnet_qrcode-control_v1p_sd15).  \n",
    "I'm thankful to Dion Timmer and contributors for their work and for making their resources available to the community. The use of the code from this repository is in accordance with the terms and conditions laid out by its license."
   ]
  },
  {
   "cell_type": "code",
   "execution_count": null,
   "metadata": {},
   "outputs": [],
   "source": [
    "import torch\n",
    "from PIL import Image\n",
    "from diffusers import StableDiffusionControlNetImg2ImgPipeline, ControlNetModel, DDIMScheduler\n",
    "from diffusers.utils import load_image\n",
    "\n",
    "controlnet = ControlNetModel.from_pretrained(\"DionTimmer/controlnet_qrcode-control_v1p_sd15\",\n",
    "                                             torch_dtype=torch.float16)\n",
    "\n",
    "pipe = StableDiffusionControlNetImg2ImgPipeline.from_pretrained(\n",
    "    \"runwayml/stable-diffusion-v1-5\",\n",
    "    controlnet=controlnet,\n",
    "    safety_checker=None,\n",
    "    torch_dtype=torch.float16\n",
    ")\n",
    "\n",
    "pipe.enable_xformers_memory_efficient_attention()\n",
    "pipe.scheduler = DDIMScheduler.from_config(pipe.scheduler.config)\n",
    "pipe.enable_model_cpu_offload()\n",
    "\n",
    "def resize_for_condition_image(input_image: Image, resolution: int):\n",
    "    input_image = input_image.convert(\"RGB\")\n",
    "    W, H = input_image.size\n",
    "    k = float(resolution) / min(H, W)\n",
    "    H *= k\n",
    "    W *= k\n",
    "    H = int(round(H / 64.0)) * 64\n",
    "    W = int(round(W / 64.0)) * 64\n",
    "    img = input_image.resize((W, H), resample=Image.LANCZOS)\n",
    "    return img\n",
    "\n",
    "\n",
    "# play with guidance_scale, controlnet_conditioning_scale and strength to make a valid QR Code Image\n",
    "\n",
    "# qr code image\n",
    "source_image = load_image(\"qrcode.png\")\n",
    "# initial image, anything\n",
    "init_image = load_image(\"https://previews.123rf.com/images/chuyu/chuyu1212/chuyu121200092/17048157-blue-circuit-board-background-of-computer-motherboard.jpg\")\n",
    "condition_image = resize_for_condition_image(source_image, 768)\n",
    "init_image = resize_for_condition_image(init_image, 768)\n",
    "generator = torch.manual_seed(123121231)\n",
    "image = pipe(prompt=\"beatiful, neon, 4k, cyberpunk\",\n",
    "             negative_prompt=\"ugly, disfigured, low quality, blurry, nsfw\", \n",
    "             image=init_image,\n",
    "             control_image=condition_image,\n",
    "             width=768,\n",
    "             height=768,\n",
    "             guidance_scale=30,\n",
    "             controlnet_conditioning_scale=3.0,\n",
    "             generator=generator,\n",
    "             strength=0.5, \n",
    "             num_inference_steps=150,\n",
    "            )\n",
    "\n",
    "image.images[0]"
   ]
  },
  {
   "cell_type": "code",
   "execution_count": null,
   "metadata": {},
   "outputs": [],
   "source": [
    "image.images[0].save(\"ai_qrcode.png\")"
   ]
  },
  {
   "cell_type": "code",
   "execution_count": null,
   "metadata": {},
   "outputs": [],
   "source": []
  }
 ],
 "metadata": {
  "kernelspec": {
   "display_name": "mlops_project3",
   "language": "python",
   "name": "python3"
  },
  "language_info": {
   "codemirror_mode": {
    "name": "ipython",
    "version": 3
   },
   "file_extension": ".py",
   "mimetype": "text/x-python",
   "name": "python",
   "nbconvert_exporter": "python",
   "pygments_lexer": "ipython3",
   "version": "3.11.5"
  }
 },
 "nbformat": 4,
 "nbformat_minor": 2
}
