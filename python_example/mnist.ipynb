{
 "cells": [
  {
   "cell_type": "code",
   "execution_count": 28,
   "metadata": {},
   "outputs": [],
   "source": [
    "import tensorflow as tf\n",
    "import numpy as np\n",
    "import matplotlib.pyplot as plt\n",
    "import time"
   ]
  },
  {
   "cell_type": "code",
   "execution_count": 29,
   "metadata": {},
   "outputs": [],
   "source": [
    "mnist = tf.keras.datasets.mnist\n",
    "\n",
    "(x_train, y_train), (x_test, y_test) = mnist.load_data()\n",
    "x_train, x_test = x_train / 255.0, x_test / 255.0\n",
    "\n",
    "indices = tf.range(start=0, limit=tf.shape(x_train)[0], dtype=tf.int32)\n",
    "shuffled_indices = tf.random.shuffle(indices)\n",
    "\n",
    "x_train = tf.gather(x_train, shuffled_indices)\n",
    "y_train = tf.gather(y_train, shuffled_indices)"
   ]
  },
  {
   "cell_type": "code",
   "execution_count": 30,
   "metadata": {},
   "outputs": [
    {
     "name": "stdout",
     "output_type": "stream",
     "text": [
      "Model: \"sequential_4\"\n",
      "_________________________________________________________________\n",
      " Layer (type)                Output Shape              Param #   \n",
      "=================================================================\n",
      " flatten_2 (Flatten)         (None, 784)               0         \n",
      "                                                                 \n",
      " dense_8 (Dense)             (None, 100)               78500     \n",
      "                                                                 \n",
      " dense_9 (Dense)             (None, 100)               10100     \n",
      "                                                                 \n",
      " dense_10 (Dense)            (None, 100)               10100     \n",
      "                                                                 \n",
      " dense_11 (Dense)            (None, 10)                1010      \n",
      "                                                                 \n",
      "=================================================================\n",
      "Total params: 99710 (389.49 KB)\n",
      "Trainable params: 99710 (389.49 KB)\n",
      "Non-trainable params: 0 (0.00 Byte)\n",
      "_________________________________________________________________\n"
     ]
    }
   ],
   "source": [
    "model = tf.keras.models.Sequential([\n",
    "  tf.keras.layers.Flatten(input_shape=(28, 28)),\n",
    "  tf.keras.layers.Dense(100, activation='relu'),\n",
    "  tf.keras.layers.Dense(100, activation='relu'),\n",
    "  tf.keras.layers.Dense(100, activation='relu'),\n",
    "  tf.keras.layers.Dense(10, activation='softmax')\n",
    "])\n",
    "\n",
    "model.summary()"
   ]
  },
  {
   "cell_type": "code",
   "execution_count": 31,
   "metadata": {},
   "outputs": [],
   "source": [
    "loss_fn = tf.keras.losses.SparseCategoricalCrossentropy(from_logits=False)"
   ]
  },
  {
   "cell_type": "code",
   "execution_count": 32,
   "metadata": {},
   "outputs": [],
   "source": [
    "model.compile(optimizer='adam',\n",
    "              loss=loss_fn,\n",
    "              metrics=['accuracy'])"
   ]
  },
  {
   "cell_type": "code",
   "execution_count": 33,
   "metadata": {},
   "outputs": [],
   "source": [
    "x_train = x_train[:8000]\n",
    "y_train = y_train[:8000]"
   ]
  },
  {
   "cell_type": "code",
   "execution_count": 21,
   "metadata": {},
   "outputs": [
    {
     "name": "stdout",
     "output_type": "stream",
     "text": [
      "Training runs on CPU\n",
      "Number of training samples: 8000\n",
      "Model: \"sequential_2\"\n",
      "_________________________________________________________________\n",
      " Layer (type)                Output Shape              Param #   \n",
      "=================================================================\n",
      " flatten_1 (Flatten)         (None, 784)               0         \n",
      "                                                                 \n",
      " dense_4 (Dense)             (None, 100)               78500     \n",
      "                                                                 \n",
      " dense_5 (Dense)             (None, 100)               10100     \n",
      "                                                                 \n",
      " dense_6 (Dense)             (None, 100)               10100     \n",
      "                                                                 \n",
      " dense_7 (Dense)             (None, 10)                1010      \n",
      "                                                                 \n",
      "=================================================================\n",
      "Total params: 99710 (389.49 KB)\n",
      "Trainable params: 99710 (389.49 KB)\n",
      "Non-trainable params: 0 (0.00 Byte)\n",
      "_________________________________________________________________\n",
      "None\n",
      "Epoch 1/50\n",
      "200/200 [==============================] - 2s 3ms/step - loss: 0.6468 - accuracy: 0.8133 - val_loss: 0.3574 - val_accuracy: 0.8950\n",
      "Epoch 2/50\n",
      "200/200 [==============================] - 0s 2ms/step - loss: 0.2396 - accuracy: 0.9309 - val_loss: 0.2809 - val_accuracy: 0.9137\n",
      "Epoch 3/50\n",
      "200/200 [==============================] - 0s 2ms/step - loss: 0.1584 - accuracy: 0.9553 - val_loss: 0.2661 - val_accuracy: 0.9162\n",
      "Epoch 4/50\n",
      "200/200 [==============================] - 0s 2ms/step - loss: 0.1178 - accuracy: 0.9658 - val_loss: 0.2847 - val_accuracy: 0.9162\n",
      "Epoch 5/50\n",
      "200/200 [==============================] - 1s 3ms/step - loss: 0.0824 - accuracy: 0.9747 - val_loss: 0.2696 - val_accuracy: 0.9237\n",
      "Epoch 6/50\n",
      "200/200 [==============================] - 1s 3ms/step - loss: 0.0565 - accuracy: 0.9842 - val_loss: 0.2583 - val_accuracy: 0.9287\n",
      "Epoch 7/50\n",
      "200/200 [==============================] - 1s 3ms/step - loss: 0.0391 - accuracy: 0.9886 - val_loss: 0.2398 - val_accuracy: 0.9337\n",
      "Epoch 8/50\n",
      "200/200 [==============================] - 1s 3ms/step - loss: 0.0357 - accuracy: 0.9898 - val_loss: 0.2617 - val_accuracy: 0.9337\n",
      "Epoch 9/50\n",
      "200/200 [==============================] - 0s 2ms/step - loss: 0.0256 - accuracy: 0.9936 - val_loss: 0.2362 - val_accuracy: 0.9400\n",
      "Epoch 10/50\n",
      "200/200 [==============================] - 1s 3ms/step - loss: 0.0179 - accuracy: 0.9945 - val_loss: 0.2558 - val_accuracy: 0.9413\n",
      "Epoch 11/50\n",
      "200/200 [==============================] - 1s 3ms/step - loss: 0.0309 - accuracy: 0.9917 - val_loss: 0.2914 - val_accuracy: 0.9275\n",
      "Epoch 12/50\n",
      "200/200 [==============================] - 1s 3ms/step - loss: 0.0144 - accuracy: 0.9966 - val_loss: 0.2529 - val_accuracy: 0.9419\n",
      "Epoch 13/50\n",
      "200/200 [==============================] - 1s 3ms/step - loss: 0.0085 - accuracy: 0.9986 - val_loss: 0.2938 - val_accuracy: 0.9381\n",
      "Epoch 14/50\n",
      "200/200 [==============================] - 1s 3ms/step - loss: 0.0314 - accuracy: 0.9905 - val_loss: 0.2708 - val_accuracy: 0.9419\n",
      "Epoch 15/50\n",
      "200/200 [==============================] - 1s 3ms/step - loss: 0.0245 - accuracy: 0.9928 - val_loss: 0.2963 - val_accuracy: 0.9362\n",
      "Epoch 16/50\n",
      "200/200 [==============================] - 1s 3ms/step - loss: 0.0231 - accuracy: 0.9923 - val_loss: 0.3288 - val_accuracy: 0.9369\n",
      "Epoch 17/50\n",
      "200/200 [==============================] - 1s 4ms/step - loss: 0.0062 - accuracy: 0.9983 - val_loss: 0.2934 - val_accuracy: 0.9425\n",
      "Epoch 18/50\n",
      "200/200 [==============================] - 1s 3ms/step - loss: 0.0018 - accuracy: 0.9997 - val_loss: 0.2916 - val_accuracy: 0.9456\n",
      "Epoch 19/50\n",
      "200/200 [==============================] - 0s 2ms/step - loss: 4.4982e-04 - accuracy: 1.0000 - val_loss: 0.2949 - val_accuracy: 0.9463\n",
      "Epoch 20/50\n",
      "200/200 [==============================] - 1s 2ms/step - loss: 2.9080e-04 - accuracy: 1.0000 - val_loss: 0.2996 - val_accuracy: 0.9488\n",
      "Epoch 21/50\n",
      "200/200 [==============================] - 1s 3ms/step - loss: 2.2878e-04 - accuracy: 1.0000 - val_loss: 0.3055 - val_accuracy: 0.9469\n",
      "Epoch 22/50\n",
      "200/200 [==============================] - 1s 3ms/step - loss: 1.8889e-04 - accuracy: 1.0000 - val_loss: 0.3081 - val_accuracy: 0.9475\n",
      "Epoch 23/50\n",
      "200/200 [==============================] - 1s 3ms/step - loss: 1.6006e-04 - accuracy: 1.0000 - val_loss: 0.3115 - val_accuracy: 0.9463\n",
      "Epoch 24/50\n",
      "200/200 [==============================] - 1s 3ms/step - loss: 1.3690e-04 - accuracy: 1.0000 - val_loss: 0.3156 - val_accuracy: 0.9463\n",
      "Epoch 25/50\n",
      "200/200 [==============================] - 1s 3ms/step - loss: 1.1808e-04 - accuracy: 1.0000 - val_loss: 0.3194 - val_accuracy: 0.9463\n",
      "Epoch 26/50\n",
      "200/200 [==============================] - 1s 3ms/step - loss: 1.0280e-04 - accuracy: 1.0000 - val_loss: 0.3220 - val_accuracy: 0.9463\n",
      "Epoch 27/50\n",
      "200/200 [==============================] - 1s 3ms/step - loss: 8.9995e-05 - accuracy: 1.0000 - val_loss: 0.3244 - val_accuracy: 0.9469\n",
      "Epoch 28/50\n",
      "200/200 [==============================] - 1s 3ms/step - loss: 7.9337e-05 - accuracy: 1.0000 - val_loss: 0.3284 - val_accuracy: 0.9456\n",
      "Epoch 29/50\n",
      "200/200 [==============================] - 1s 3ms/step - loss: 7.0441e-05 - accuracy: 1.0000 - val_loss: 0.3331 - val_accuracy: 0.9475\n",
      "Epoch 30/50\n",
      "200/200 [==============================] - 1s 3ms/step - loss: 6.2849e-05 - accuracy: 1.0000 - val_loss: 0.3352 - val_accuracy: 0.9469\n",
      "Epoch 31/50\n",
      "200/200 [==============================] - 1s 3ms/step - loss: 5.5581e-05 - accuracy: 1.0000 - val_loss: 0.3373 - val_accuracy: 0.9469\n",
      "Epoch 32/50\n",
      "200/200 [==============================] - 1s 3ms/step - loss: 4.9932e-05 - accuracy: 1.0000 - val_loss: 0.3409 - val_accuracy: 0.9469\n",
      "Epoch 33/50\n",
      "200/200 [==============================] - 1s 3ms/step - loss: 4.4582e-05 - accuracy: 1.0000 - val_loss: 0.3445 - val_accuracy: 0.9463\n",
      "Epoch 34/50\n",
      "200/200 [==============================] - 1s 3ms/step - loss: 3.9801e-05 - accuracy: 1.0000 - val_loss: 0.3470 - val_accuracy: 0.9456\n",
      "Epoch 35/50\n",
      "200/200 [==============================] - 1s 3ms/step - loss: 3.5958e-05 - accuracy: 1.0000 - val_loss: 0.3498 - val_accuracy: 0.9469\n",
      "Epoch 36/50\n",
      "200/200 [==============================] - 1s 3ms/step - loss: 3.2094e-05 - accuracy: 1.0000 - val_loss: 0.3520 - val_accuracy: 0.9475\n",
      "Epoch 37/50\n",
      "200/200 [==============================] - 1s 3ms/step - loss: 2.9035e-05 - accuracy: 1.0000 - val_loss: 0.3548 - val_accuracy: 0.9481\n",
      "Epoch 38/50\n",
      "200/200 [==============================] - 1s 3ms/step - loss: 2.5906e-05 - accuracy: 1.0000 - val_loss: 0.3603 - val_accuracy: 0.9463\n",
      "Epoch 39/50\n",
      "200/200 [==============================] - 1s 3ms/step - loss: 2.3437e-05 - accuracy: 1.0000 - val_loss: 0.3619 - val_accuracy: 0.9463\n",
      "Epoch 40/50\n",
      "200/200 [==============================] - 0s 2ms/step - loss: 2.1233e-05 - accuracy: 1.0000 - val_loss: 0.3637 - val_accuracy: 0.9481\n",
      "Epoch 41/50\n",
      "200/200 [==============================] - 1s 4ms/step - loss: 1.9157e-05 - accuracy: 1.0000 - val_loss: 0.3669 - val_accuracy: 0.9481\n",
      "Epoch 42/50\n",
      "200/200 [==============================] - 1s 5ms/step - loss: 1.7147e-05 - accuracy: 1.0000 - val_loss: 0.3696 - val_accuracy: 0.9481\n",
      "Epoch 43/50\n",
      "200/200 [==============================] - 1s 3ms/step - loss: 1.5453e-05 - accuracy: 1.0000 - val_loss: 0.3729 - val_accuracy: 0.9475\n",
      "Epoch 44/50\n",
      "200/200 [==============================] - 1s 3ms/step - loss: 1.3926e-05 - accuracy: 1.0000 - val_loss: 0.3762 - val_accuracy: 0.9475\n",
      "Epoch 45/50\n",
      "200/200 [==============================] - 1s 4ms/step - loss: 1.2561e-05 - accuracy: 1.0000 - val_loss: 0.3798 - val_accuracy: 0.9475\n",
      "Epoch 46/50\n",
      "200/200 [==============================] - 1s 3ms/step - loss: 1.1255e-05 - accuracy: 1.0000 - val_loss: 0.3827 - val_accuracy: 0.9475\n",
      "Epoch 47/50\n",
      "200/200 [==============================] - 1s 3ms/step - loss: 1.0189e-05 - accuracy: 1.0000 - val_loss: 0.3857 - val_accuracy: 0.9475\n",
      "Epoch 48/50\n",
      "200/200 [==============================] - 1s 3ms/step - loss: 9.2064e-06 - accuracy: 1.0000 - val_loss: 0.3894 - val_accuracy: 0.9475\n",
      "Epoch 49/50\n",
      "200/200 [==============================] - 1s 3ms/step - loss: 8.2300e-06 - accuracy: 1.0000 - val_loss: 0.3910 - val_accuracy: 0.9475\n",
      "Epoch 50/50\n",
      "200/200 [==============================] - 1s 3ms/step - loss: 7.4675e-06 - accuracy: 1.0000 - val_loss: 0.3946 - val_accuracy: 0.9469\n",
      "Total training time: 30.135371923446655 seconds\n"
     ]
    }
   ],
   "source": [
    "if tf.config.list_physical_devices('GPU'):\n",
    "    print(\"Training runs on GPU\")\n",
    "elif(tf.config.list_physical_devices('CPU')):\n",
    "    print(\"Training runs on CPU\")\n",
    "\n",
    "print(f'Number of training samples: {len(x_train)}')\n",
    "print(model.summary())\n",
    "start_time = time.time()\n",
    "model.fit(x_train, y_train, epochs=50, validation_split=0.2, batch_size=32)\n",
    "end_time = time.time()\n",
    "\n",
    "total_time = end_time - start_time\n",
    "print(f'Total training time: {total_time} seconds')"
   ]
  },
  {
   "cell_type": "code",
   "execution_count": 22,
   "metadata": {},
   "outputs": [],
   "source": [
    "probability_model = tf.keras.Sequential([\n",
    "  model,\n",
    "  tf.keras.layers.Softmax()\n",
    "])"
   ]
  },
  {
   "cell_type": "code",
   "execution_count": 23,
   "metadata": {},
   "outputs": [
    {
     "data": {
      "text/plain": [
       "<tf.Tensor: shape=(1, 10), dtype=float32, numpy=\n",
       "array([[0.08533674, 0.08533674, 0.23196931, 0.08533674, 0.08533674,\n",
       "        0.08533674, 0.08533674, 0.08533674, 0.08533674, 0.08533674]],\n",
       "      dtype=float32)>"
      ]
     },
     "execution_count": 23,
     "metadata": {},
     "output_type": "execute_result"
    }
   ],
   "source": [
    "probability_model(np.array([x_test[1]]))"
   ]
  },
  {
   "cell_type": "code",
   "execution_count": 24,
   "metadata": {},
   "outputs": [
    {
     "data": {
      "image/png": "[encoded data removed]",
      "text/plain": [
       "<Figure size 640x480 with 1 Axes>"
      ]
     },
     "metadata": {},
     "output_type": "display_data"
    }
   ],
   "source": [
    "plt.imshow(x_test[0], cmap='gray')\n",
    "plt.show()"
   ]
  },
  {
   "cell_type": "code",
   "execution_count": 25,
   "metadata": {},
   "outputs": [],
   "source": [
    "model.save('model.h5');"
   ]
  },
  {
   "cell_type": "code",
   "execution_count": 27,
   "metadata": {},
   "outputs": [
    {
     "name": "stdout",
     "output_type": "stream",
     "text": [
      "INFO:tensorflow:Assets written to: model-v3/assets\n"
     ]
    },
    {
     "name": "stderr",
     "output_type": "stream",
     "text": [
      "INFO:tensorflow:Assets written to: model-v3/assets\n"
     ]
    }
   ],
   "source": [
    "tf.saved_model.save(model, 'model-v3')"
   ]
  },
  {
   "cell_type": "code",
   "execution_count": null,
   "metadata": {},
   "outputs": [],
   "source": []
  }
 ],
 "metadata": {
  "kernelspec": {
   "display_name": "mlops_project3",
   "language": "python",
   "name": "python3"
  },
  "language_info": {
   "codemirror_mode": {
    "name": "ipython",
    "version": 3
   },
   "file_extension": ".py",
   "mimetype": "text/x-python",
   "name": "python",
   "nbconvert_exporter": "python",
   "pygments_lexer": "ipython3",
   "version": "3.11.5"
  }
 },
 "nbformat": 4,
 "nbformat_minor": 2
}
